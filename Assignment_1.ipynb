{
  "nbformat": 4,
  "nbformat_minor": 0,
  "metadata": {
    "colab": {
      "provenance": [],
      "authorship_tag": "ABX9TyOczZemAyU7WwFm5R98YwjL",
      "include_colab_link": true
    },
    "kernelspec": {
      "name": "python3",
      "display_name": "Python 3"
    },
    "language_info": {
      "name": "python"
    }
  },
  "cells": [
    {
      "cell_type": "markdown",
      "metadata": {
        "id": "view-in-github",
        "colab_type": "text"
      },
      "source": [
        "<a href=\"https://colab.research.google.com/github/bhoomikashrivastava2210-oss/Assignment-1/blob/main/Assignment_1.ipynb\" target=\"_parent\"><img src=\"https://colab.research.google.com/assets/colab-badge.svg\" alt=\"Open In Colab\"/></a>"
      ]
    },
    {
      "cell_type": "markdown",
      "source": [
        "Write a program to swap two variables without using a third variable0"
      ],
      "metadata": {
        "id": "tdprylFD-XFg"
      }
    },
    {
      "cell_type": "code",
      "source": [
        "a = 22\n",
        "b = 10\n",
        "print(\"Before swap: a =\", a, \"b =\", b)\n"
      ],
      "metadata": {
        "colab": {
          "base_uri": "https://localhost:8080/"
        },
        "id": "enicFgaw-ot0",
        "outputId": "e8665df9-0ab3-4ef3-8438-cb117b435849"
      },
      "execution_count": 53,
      "outputs": [
        {
          "output_type": "stream",
          "name": "stdout",
          "text": [
            "Before swap: a = 22 b = 10\n"
          ]
        }
      ]
    },
    {
      "cell_type": "markdown",
      "source": [
        "Take a user’s name and age as input and print a message like\n",
        "\"Hello [Name], you will turn 100 years old in [Year]\""
      ],
      "metadata": {
        "id": "Q11ZiGD2_JmL"
      }
    },
    {
      "cell_type": "code",
      "source": [
        "name=(\"bhoomika\")\n",
        "age=(19)\n",
        "\n",
        "# Calculate the year when they turn 100\n",
        "current_year = 2025\n",
        "year_when_100 = current_year + (100 - age)\n",
        "\n",
        "# Print the message\n",
        "print(\"Hello \" + name + \", you will turn 100 years old in \" + str(year_when_100) + \".\")"
      ],
      "metadata": {
        "colab": {
          "base_uri": "https://localhost:8080/"
        },
        "id": "UYQJufoxAC1g",
        "outputId": "7ff76068-9100-45b4-c5ee-2b3b10f8977b"
      },
      "execution_count": 54,
      "outputs": [
        {
          "output_type": "stream",
          "name": "stdout",
          "text": [
            "Hello bhoomika, you will turn 100 years old in 2106.\n"
          ]
        }
      ]
    },
    {
      "cell_type": "markdown",
      "source": [
        "Print all the numbers from 1 to 50 that are divisible by both 3 and 50"
      ],
      "metadata": {
        "id": "TXUdY7C1B3tj"
      }
    },
    {
      "cell_type": "code",
      "source": [
        "print(\"Numbers divisible by both 3 and 5 (1-50):\")\n",
        "for i in range(1, 51):\n",
        "    if i % 3 == 0 and i % 5 == 0:\n",
        "        print(i, end=\" \")"
      ],
      "metadata": {
        "colab": {
          "base_uri": "https://localhost:8080/"
        },
        "id": "u_r6KPUlB7Vr",
        "outputId": "1543cbd8-8d6c-4ff8-f795-10b448a8d799"
      },
      "execution_count": 55,
      "outputs": [
        {
          "output_type": "stream",
          "name": "stdout",
          "text": [
            "Numbers divisible by both 3 and 5 (1-50):\n",
            "15 30 45 "
          ]
        }
      ]
    },
    {
      "cell_type": "markdown",
      "source": [
        "Take a string input from the user and check if it’s a palindrome (same forwards and backwards)0"
      ],
      "metadata": {
        "id": "IUiRz6XBCePn"
      }
    },
    {
      "cell_type": "code",
      "source": [
        "text =(\"civic\").lower().replace(\" \", \"\")\n",
        "is_palindrome = text == text[::-1]\n",
        "\n",
        "if is_palindrome:\n",
        "    print(\"It's a palindrome!\")\n",
        "else:\n",
        "    print(\"It's not a palindrome.\")"
      ],
      "metadata": {
        "colab": {
          "base_uri": "https://localhost:8080/"
        },
        "id": "kVdabU_2CiA5",
        "outputId": "091eae59-1a24-487d-a0b5-973e03575d47"
      },
      "execution_count": 56,
      "outputs": [
        {
          "output_type": "stream",
          "name": "stdout",
          "text": [
            "It's a palindrome!\n"
          ]
        }
      ]
    },
    {
      "cell_type": "markdown",
      "source": [
        "Write a program to find the second largest number in a list"
      ],
      "metadata": {
        "id": "O6kEanxVE1Z6"
      }
    },
    {
      "cell_type": "code",
      "metadata": {
        "colab": {
          "base_uri": "https://localhost:8080/"
        },
        "id": "9675fa50",
        "outputId": "0b7b8bb8-0392-404f-f544-11c8a37ae04a"
      },
      "source": [
        "my_list = [1, 2, 3, 44, 66, 33, 89, 90, 48.17]\n",
        "\n",
        "# Sort the list in descending order\n",
        "my_list.sort(reverse=True)\n",
        "\n",
        "# The second largest number is at index 1 (since lists are 0-indexed)\n",
        "second_largest = my_list[1]\n",
        "\n",
        "print(\"The second largest number is:\", second_largest)"
      ],
      "execution_count": 57,
      "outputs": [
        {
          "output_type": "stream",
          "name": "stdout",
          "text": [
            "The second largest number is: 89\n"
          ]
        }
      ]
    },
    {
      "cell_type": "markdown",
      "source": [
        "Create a list of all even numbers from 1 to 100 using list comprehension0"
      ],
      "metadata": {
        "id": "WrQdS_vrF_me"
      }
    },
    {
      "cell_type": "code",
      "metadata": {
        "colab": {
          "base_uri": "https://localhost:8080/"
        },
        "id": "b0ff3578",
        "outputId": "563a2b41-0a0c-425a-94a2-160b5b70051b"
      },
      "source": [
        "even_numbers = [num for num in range(1, 101) if num % 2 == 0]\n",
        "print(even_numbers)"
      ],
      "execution_count": 58,
      "outputs": [
        {
          "output_type": "stream",
          "name": "stdout",
          "text": [
            "[2, 4, 6, 8, 10, 12, 14, 16, 18, 20, 22, 24, 26, 28, 30, 32, 34, 36, 38, 40, 42, 44, 46, 48, 50, 52, 54, 56, 58, 60, 62, 64, 66, 68, 70, 72, 74, 76, 78, 80, 82, 84, 86, 88, 90, 92, 94, 96, 98, 100]\n"
          ]
        }
      ]
    },
    {
      "cell_type": "markdown",
      "source": [
        "Remove duplicates from a list without using the set() function."
      ],
      "metadata": {
        "id": "3DEGsUBAJszC"
      }
    },
    {
      "cell_type": "code",
      "source": [],
      "metadata": {
        "id": "BfEcLGBmJu-4"
      },
      "execution_count": 58,
      "outputs": []
    },
    {
      "cell_type": "code",
      "metadata": {
        "colab": {
          "base_uri": "https://localhost:8080/"
        },
        "id": "dc2a86d8",
        "outputId": "5ca2ea81-e7be-4914-9884-a9dfbfe4591f"
      },
      "source": [
        "my_list = [1, 2, 2, 3, 4, 4, 5, 6, 6, 7]\n",
        "new_list = []\n",
        "\n",
        "for item in my_list:\n",
        "    if item not in new_list:\n",
        "        new_list.append(item)\n",
        "\n",
        "print(\"Original list:\", my_list)\n",
        "print(\"List with duplicates removed:\", new_list)"
      ],
      "execution_count": 59,
      "outputs": [
        {
          "output_type": "stream",
          "name": "stdout",
          "text": [
            "Original list: [1, 2, 2, 3, 4, 4, 5, 6, 6, 7]\n",
            "List with duplicates removed: [1, 2, 3, 4, 5, 6, 7]\n"
          ]
        }
      ]
    },
    {
      "cell_type": "markdown",
      "source": [
        "Create a tuple with 5 integers. Calculate and print the sum, maximum, and minimum values0"
      ],
      "metadata": {
        "id": "EnVBxyaOJ3CF"
      }
    },
    {
      "cell_type": "code",
      "metadata": {
        "colab": {
          "base_uri": "https://localhost:8080/"
        },
        "id": "7c9985b1",
        "outputId": "37e83ffc-3758-4c10-817d-63bad2199031"
      },
      "source": [
        "my_tuple = (10, 5, 20, 15, 25)\n",
        "\n",
        "# Calculate the sum of the tuple\n",
        "tuple_sum = sum(my_tuple)\n",
        "\n",
        "# Find the maximum value in the tuple\n",
        "tuple_max = max(my_tuple)\n",
        "\n",
        "# Find the minimum value in the tuple\n",
        "tuple_min = min(my_tuple)\n",
        "\n",
        "# Print the results\n",
        "print(\"Tuple:\", my_tuple)\n",
        "print(\"Sum of the tuple:\", tuple_sum)\n",
        "print(\"Maximum value in the tuple:\", tuple_max)\n",
        "print(\"Minimum value in the tuple:\", tuple_min)"
      ],
      "execution_count": 60,
      "outputs": [
        {
          "output_type": "stream",
          "name": "stdout",
          "text": [
            "Tuple: (10, 5, 20, 15, 25)\n",
            "Sum of the tuple: 75\n",
            "Maximum value in the tuple: 25\n",
            "Minimum value in the tuple: 5\n"
          ]
        }
      ]
    },
    {
      "cell_type": "markdown",
      "source": [
        "Convert a tuple into a list, modify the list by adding a new element, and convert it back to a tuple."
      ],
      "metadata": {
        "id": "V0a_QVWXKLVn"
      }
    },
    {
      "cell_type": "code",
      "metadata": {
        "colab": {
          "base_uri": "https://localhost:8080/"
        },
        "id": "a7765b85",
        "outputId": "aa7ad3e3-086c-4953-ceb5-68fdd96c5cf5"
      },
      "source": [
        "my_tuple = (1, 2, 3, 4, 5)\n",
        "print(\"Original tuple:\", my_tuple)\n",
        "\n",
        "# Convert the tuple to a list\n",
        "my_list = list(my_tuple)\n",
        "print(\"Converted list:\", my_list)\n",
        "\n",
        "# Add a new element to the list\n",
        "my_list.append(6)\n",
        "print(\"List after adding element:\", my_list)\n",
        "\n",
        "# Convert the list back to a tuple\n",
        "new_tuple = tuple(my_list)\n",
        "print(\"Converted back to tuple:\", new_tuple)"
      ],
      "execution_count": 61,
      "outputs": [
        {
          "output_type": "stream",
          "name": "stdout",
          "text": [
            "Original tuple: (1, 2, 3, 4, 5)\n",
            "Converted list: [1, 2, 3, 4, 5]\n",
            "List after adding element: [1, 2, 3, 4, 5, 6]\n",
            "Converted back to tuple: (1, 2, 3, 4, 5, 6)\n"
          ]
        }
      ]
    },
    {
      "cell_type": "markdown",
      "source": [
        "Write a program to count the frequency of each word in a given string using a dictionary0"
      ],
      "metadata": {
        "id": "AY4HHjyzKWhT"
      }
    },
    {
      "cell_type": "code",
      "metadata": {
        "colab": {
          "base_uri": "https://localhost:8080/"
        },
        "id": "29f41f87",
        "outputId": "2bb15afd-8fe4-4119-91ac-bfc1af5a7dc1"
      },
      "source": [
        "my_string = \"this is a test string with a test word\"\n",
        "word_counts = {}\n",
        "\n",
        "# Split the string into words\n",
        "words = my_string.split()\n",
        "\n",
        "# Count the frequency of each word\n",
        "for word in words:\n",
        "    word_counts[word] = word_counts.get(word, 0) + 1\n",
        "\n",
        "# Print the word frequencies\n",
        "print(\"Word frequencies:\", word_counts)"
      ],
      "execution_count": 62,
      "outputs": [
        {
          "output_type": "stream",
          "name": "stdout",
          "text": [
            "Word frequencies: {'this': 1, 'is': 1, 'a': 2, 'test': 2, 'string': 1, 'with': 1, 'word': 1}\n"
          ]
        }
      ]
    },
    {
      "cell_type": "markdown",
      "source": [
        "Create a nested dictionary to store student names and their respective scores in three subjects. Print the\n",
        "student with the highest total score0"
      ],
      "metadata": {
        "id": "BJa5YKL1KgPZ"
      }
    },
    {
      "cell_type": "code",
      "source": [
        "students_scores = {\n",
        "    \"Aarav\": {\"Math\": 85, \"Science\": 90, \"English\": 78},\n",
        "    \"Bhavya\": {\"Math\": 92, \"Science\": 88, \"English\": 95},\n",
        "    \"Chirag\": {\"Math\": 76, \"Science\": 85, \"English\": 80},\n",
        "    \"Divya\": {\"Math\": 89, \"Science\": 76, \"English\": 84},\n",
        "    \"Ishita\": {\"Math\": 91, \"Science\": 94, \"English\": 90}\n",
        "}\n",
        "total_scores = {student: sum(scores.values()) for student, scores in students_scores.items()}\n",
        "top_student = max(total_scores, key=total_scores.get)\n",
        "print(\"The student with the highest total score is:\", top_student)\n",
        "print(\"Total Score:\", total_scores[top_student])"
      ],
      "metadata": {
        "colab": {
          "base_uri": "https://localhost:8080/"
        },
        "id": "hTTBGxKwLF-U",
        "outputId": "e7848f28-3c7a-4a39-b5af-9d4b1f407782"
      },
      "execution_count": 63,
      "outputs": [
        {
          "output_type": "stream",
          "name": "stdout",
          "text": [
            "The student with the highest total score is: Bhavya\n",
            "Total Score: 275\n"
          ]
        }
      ]
    },
    {
      "cell_type": "markdown",
      "source": [
        "Given a dictionary of employee names and salaries, update the salary of a specific employee based on user\n",
        "input."
      ],
      "metadata": {
        "id": "-EAGqYxXLkX5"
      }
    },
    {
      "cell_type": "code",
      "source": [
        "employees = {\n",
        "    \"Aarav\": 45000,\n",
        "    \"Bhavya\": 52000,\n",
        "    \"Chirag\": 48000,\n",
        "    \"Divya\": 60000,\n",
        "    \"Ishita\": 55000\n",
        "}\n",
        "print(\"Current Employee Salaries:\")\n",
        "for name, salary in employees.items():\n",
        "    print(f\"{name}: Rs. {salary}\")\n",
        "new_salary = 65000\n",
        "employees[\"Ishita\"] = new_salary\n",
        "\n",
        "print(\"Updated Employee Salaries:\")\n",
        "for name, salary in employees.items():\n",
        "    print(f\"{name}: Rs. {salary}\")"
      ],
      "metadata": {
        "colab": {
          "base_uri": "https://localhost:8080/"
        },
        "id": "h-7etC3hOf2L",
        "outputId": "15598368-d65e-4bb9-8658-6a72d3417171"
      },
      "execution_count": 64,
      "outputs": [
        {
          "output_type": "stream",
          "name": "stdout",
          "text": [
            "Current Employee Salaries:\n",
            "Aarav: Rs. 45000\n",
            "Bhavya: Rs. 52000\n",
            "Chirag: Rs. 48000\n",
            "Divya: Rs. 60000\n",
            "Ishita: Rs. 55000\n",
            "Updated Employee Salaries:\n",
            "Aarav: Rs. 45000\n",
            "Bhavya: Rs. 52000\n",
            "Chirag: Rs. 48000\n",
            "Divya: Rs. 60000\n",
            "Ishita: Rs. 65000\n"
          ]
        }
      ]
    },
    {
      "cell_type": "markdown",
      "source": [
        "Set Operations:Write a program to find the union, intersection, and difference of two sets:\n",
        "set1 = {1, 2, 3, 4, 5}\n",
        "set2 = {4, 5, 6, 7, 8}"
      ],
      "metadata": {
        "id": "tLf6EvZFLoYz"
      }
    },
    {
      "cell_type": "code",
      "source": [
        "set1 = {1, 2, 3, 4, 5}\n",
        "set2 = {4, 5, 6, 7, 8}\n",
        "\n",
        "# Union\n",
        "union_set = set1.union(set2)\n",
        "\n",
        "# Intersection\n",
        "intersection_set = set1.intersection(set2)\n",
        "\n",
        "# Difference (set1 - set2)\n",
        "difference_set = set1.difference(set2)\n",
        "\n",
        "print(\"Set 1:\", set1)\n",
        "print(\"Set 2:\", set2)\n",
        "print(\"\\nUnion:\", union_set)\n",
        "print(\"Intersection:\", intersection_set)\n",
        "print(\"Difference (Set1 - Set2):\", difference_set)"
      ],
      "metadata": {
        "colab": {
          "base_uri": "https://localhost:8080/"
        },
        "id": "4EIyH069PQDK",
        "outputId": "b7162eef-dfd6-41e5-cf4b-26351e36a837"
      },
      "execution_count": 65,
      "outputs": [
        {
          "output_type": "stream",
          "name": "stdout",
          "text": [
            "Set 1: {1, 2, 3, 4, 5}\n",
            "Set 2: {4, 5, 6, 7, 8}\n",
            "\n",
            "Union: {1, 2, 3, 4, 5, 6, 7, 8}\n",
            "Intersection: {4, 5}\n",
            "Difference (Set1 - Set2): {1, 2, 3}\n"
          ]
        }
      ]
    }
  ]
}